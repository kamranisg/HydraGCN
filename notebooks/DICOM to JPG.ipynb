{
 "cells": [
  {
   "cell_type": "markdown",
   "metadata": {},
   "source": [
    "## Convert DICOM to JPG"
   ]
  },
  {
   "cell_type": "code",
   "execution_count": 2,
   "metadata": {},
   "outputs": [],
   "source": [
    "import pydicom as dicom\n",
    "import os\n",
    "import cv2\n",
    "import PIL # optional\n",
    "from PIL import Image\n",
    "import numpy as np\n",
    "import random"
   ]
  },
  {
   "cell_type": "code",
   "execution_count": null,
   "metadata": {},
   "outputs": [],
   "source": [
    "# make it True if you want in PNG format\n",
    "PNG = False\n",
    "# Specify the .dcm folder path\n",
    "folder_path = \"/Volumes/Alex Festplatte/ictcf/dicom_unzipped1/Patient 3/CT\"\n",
    "# Specify the output jpg/png folder path\n",
    "jpg_folder_path = \"/Volumes/Alex Festplatte/PNG_test/Patient3\"\n",
    "images_path = os.listdir(folder_path)\n",
    "for n, image in enumerate(images_path):\n",
    "    print(n, image)\n",
    "    ds = dicom.dcmread(os.path.join(folder_path, image))\n",
    "    pixel_array_numpy = ds.pixel_array\n",
    "    if PNG == False:\n",
    "        image = image.replace('.dcm', '.jpg')\n",
    "    else:\n",
    "        image = image.replace('.dcm', '.png')\n",
    "    #cv2.imwrite(os.path.join(jpg_folder_path, \"{}\".format(n) + image), pixel_array_numpy)\n",
    "    if n % 50 == 0:\n",
    "        print('{} image converted'.format(n))\n",
    "print('{} images finally converted'.format(n))\n",
    "    "
   ]
  },
  {
   "cell_type": "markdown",
   "metadata": {},
   "source": [
    "## Mosaic"
   ]
  },
  {
   "cell_type": "code",
   "execution_count": null,
   "metadata": {},
   "outputs": [],
   "source": [
    "store_dir = \"...\"\n",
    "image_list = os.listdir(store_dir)\n",
    "\n",
    "images = [Image.open(x) for x in ['CT_0.jpg', 'CT_1.jpg''CT_2.jpg']]\n",
    "widths, heights = zip(*(i.size for i in images))\n",
    "\n",
    "total_width = 1536#sum(widths)\n",
    "max_height = 1536#max(heights)\n",
    "\n",
    "new_im = Image.new('RGB', (total_width, max_height))\n",
    "\n",
    "x_offset = 0\n",
    "y_offset = 0\n",
    "for idx, im in enumerate(images):\n",
    "    if idx % 3 == 0 and idx != 0:\n",
    "        x_offset = 0\n",
    "        y_offset += 512#im.size[1]\n",
    "    new_im.paste(im, (x_offset,y_offset))\n",
    "    x_offset += 512 #im.size[0]\n",
    "\n",
    "#new_im.save('/Users/Alex/Desktop/MLMI/test.jpg')\n",
    "new_im = np.array(new_im)\n",
    "resized_im = cv2.resize(new_im, (512, 512))\n",
    "#cv2.imwrite('/Users/Alex/Desktop/MLMI/test_resized.jpg', resized_im)"
   ]
  },
  {
   "cell_type": "markdown",
   "metadata": {},
   "source": [
    "## Sample images to jpg"
   ]
  },
  {
   "cell_type": "code",
   "execution_count": null,
   "metadata": {},
   "outputs": [],
   "source": [
    "volume_dir = \"/Volumes/Alex Festplatte/ictcf/dicom_unzipped2\"\n",
    "patients =  os.listdir(volume_dir)[1:]\n",
    "patients = [patient + '/CT/' for patient in patients]\n",
    "patient_dirs = [os.path.join(volume_dir, patient) for patient in patients]\n",
    "patient_dirs\n",
    "len(patient_dirs)"
   ]
  },
  {
   "cell_type": "code",
   "execution_count": null,
   "metadata": {},
   "outputs": [],
   "source": [
    "## choose image by random\n",
    "random.choice(os.listdir(patient_dirs[1]))"
   ]
  },
  {
   "cell_type": "code",
   "execution_count": null,
   "metadata": {},
   "outputs": [],
   "source": [
    "PNG = False\n",
    "# Specify the output jpg/png folder path\n",
    "jpg_folder_path = \"/Volumes/Alex Festplatte/ictcf/sample_jpg/\"\n",
    "\n",
    "for n, patient in enumerate(patient_dirs):\n",
    "\n",
    "    image = patient + random.choice(os.listdir(patient)) # choosing image at random\n",
    "    #image = patient + os.listdir(patient)[int(len(os.listdir(patient))/2)] # choosing middle slice\n",
    "    ds = dicom.dcmread(image)\n",
    "    pixel_array_numpy = ds.pixel_array\n",
    "\n",
    "    jpg_patient_name = patient.split('/')[5]+'.jpg'\n",
    "    cv2.imwrite(os.path.join(jpg_folder_path, jpg_patient_name), pixel_array_numpy)\n",
    "    \n",
    "    if n % 50 == 0:\n",
    "        print('{} patients converted'.format(n))\n",
    "print('Total: {} images converted'.format(n))"
   ]
  },
  {
   "cell_type": "code",
   "execution_count": null,
   "metadata": {
    "scrolled": false
   },
   "outputs": [],
   "source": [
    "PNG = False\n",
    "# Specify the output jpg/png folder path\n",
    "jpg_folder_path = \"/Volumes/Alex Festplatte/ictcf/9rand_slice_cohort2_jpg/\"\n",
    "\n",
    "for n, patient in enumerate(patient_dirs):\n",
    "    for i in range(9):\n",
    "        image = patient + random.choice(os.listdir(patient)) # choosing image at random\n",
    "        #image = patient + os.listdir(patient)[int(len(os.listdir(patient))/2)] # choosing middle slice\n",
    "        ds = dicom.dcmread(image)\n",
    "        pixel_array_numpy = ds.pixel_array\n",
    "\n",
    "        jpg_patient_name = patient.split('/')[5]+'-{}'.format(i)+'.jpg'\n",
    "        cv2.imwrite(os.path.join(jpg_folder_path, jpg_patient_name), pixel_array_numpy)\n",
    "    \n",
    "    if n % 50 == 0:\n",
    "        print('{} patients converted'.format(n))\n",
    "print('Total: {} images converted'.format(n))"
   ]
  },
  {
   "cell_type": "markdown",
   "metadata": {},
   "source": [
    "## Sample 9 images for mosaic of each patient"
   ]
  },
  {
   "cell_type": "code",
   "execution_count": 48,
   "metadata": {
    "scrolled": false
   },
   "outputs": [
    {
     "data": {
      "text/plain": [
       "342"
      ]
     },
     "execution_count": 48,
     "metadata": {},
     "output_type": "execute_result"
    }
   ],
   "source": [
    "volume_dir = \"/Volumes/Alex Festplatte/ictcf/dicom_unzipped2\"\n",
    "patients =  os.listdir(volume_dir)[1:] # get Patient ID: e.g. \"Patient 1.dcm\"\n",
    "patients = [patient + '/CT/' for patient in patients] \n",
    "patient_dirs = [os.path.join(volume_dir, patient) for patient in patients]\n",
    "patient_dirs\n",
    "len(patient_dirs)"
   ]
  },
  {
   "cell_type": "code",
   "execution_count": 49,
   "metadata": {},
   "outputs": [
    {
     "name": "stdout",
     "output_type": "stream",
     "text": [
      "0 patients converted\n",
      "50 patients converted\n",
      "100 patients converted\n",
      "150 patients converted\n",
      "200 patients converted\n",
      "250 patients converted\n",
      "300 patients converted\n",
      "Total: 341 images converted\n"
     ]
    }
   ],
   "source": [
    "# Specify the output jpg/png folder path\n",
    "jpg_folder_path = \"/Volumes/Alex Festplatte/ictcf/mosaic_elements/\"\n",
    "for count, patient in enumerate(patient_dirs):\n",
    "    patient_name = patient.split('/')[5]\n",
    "    patient_dir = jpg_folder_path + patient_name\n",
    "    os.mkdir(patient_dir)\n",
    "    n = 0\n",
    "    for i in [1/3, 1/2, 2/3]:\n",
    "        for j in [-3, 0, 3]:\n",
    "            image = patient + os.listdir(patient)[int(len(os.listdir(patient))*i)+j]\n",
    "            ds = dicom.dcmread(image)\n",
    "            pixel_array_numpy = ds.pixel_array\n",
    "            jpg_CT_slice = \"CT_{}.jpg\".format(n)\n",
    "            cv2.imwrite(os.path.join(patient_dir, jpg_CT_slice), pixel_array_numpy)\n",
    "            n += 1\n",
    "       \n",
    "    if count % 50 == 0:\n",
    "        print('{} patients converted'.format(count))\n",
    "print('Total: {} images converted'.format(count))"
   ]
  },
  {
   "cell_type": "markdown",
   "metadata": {},
   "source": [
    "## Create Mosaics for the 9 images"
   ]
  },
  {
   "cell_type": "code",
   "execution_count": null,
   "metadata": {},
   "outputs": [],
   "source": [
    "store_dir = \"...\"\n",
    "image_list = os.listdir(store_dir)\n",
    "\n",
    "images = [Image.open(x) for x in ['CT_0.jpg', 'CT_1.jpg''CT_2.jpg']]\n",
    "widths, heights = zip(*(i.size for i in images))\n",
    "\n",
    "total_width = 1536#sum(widths)\n",
    "max_height = 1536#max(heights)\n",
    "\n",
    "new_im = Image.new('RGB', (total_width, max_height))\n",
    "\n",
    "x_offset = 0\n",
    "y_offset = 0\n",
    "for idx, im in enumerate(images):\n",
    "    if idx % 3 == 0 and idx != 0:\n",
    "        x_offset = 0\n",
    "        y_offset += 512#im.size[1]\n",
    "    new_im.paste(im, (x_offset,y_offset))\n",
    "    x_offset += 512 #im.size[0]\n",
    "\n",
    "#new_im.save('/Users/Alex/Desktop/MLMI/test.jpg')\n",
    "new_im = np.array(new_im)\n",
    "resized_im = cv2.resize(new_im, (512, 512))\n",
    "#cv2.imwrite('/Users/Alex/Desktop/MLMI/test_resized.jpg', resized_im)"
   ]
  },
  {
   "cell_type": "code",
   "execution_count": null,
   "metadata": {},
   "outputs": [],
   "source": []
  }
 ],
 "metadata": {
  "kernelspec": {
   "display_name": "Python 3",
   "language": "python",
   "name": "python3"
  },
  "language_info": {
   "codemirror_mode": {
    "name": "ipython",
    "version": 3
   },
   "file_extension": ".py",
   "mimetype": "text/x-python",
   "name": "python",
   "nbconvert_exporter": "python",
   "pygments_lexer": "ipython3",
   "version": "3.7.4"
  }
 },
 "nbformat": 4,
 "nbformat_minor": 4
}
